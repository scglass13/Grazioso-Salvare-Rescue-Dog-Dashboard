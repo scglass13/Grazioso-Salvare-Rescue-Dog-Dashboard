{
 "cells": [
  {
   "cell_type": "code",
   "execution_count": 1,
   "id": "93cfaa03",
   "metadata": {
    "scrolled": false
   },
   "outputs": [
    {
     "name": "stdout",
     "output_type": "stream",
     "text": [
      "Insert Result: True\n",
      "Read Result: [{'_id': ObjectId('661310133c1dbed325332f97'), 'name': 'Spot', 'animal_type': 'Dog', 'age': 2, 'breed': 'Poodle'}]\n",
      "Total updated: 1\n",
      "Total deleted: 1\n"
     ]
    }
   ],
   "source": [
    "# Import the AnimalShelter class from your CRUD module\n",
    "from animal_shelter import AnimalShelter  \n",
    "\n",
    "# Instantiate the AnimalShelter class\n",
    "animal_shelter = AnimalShelter('aacuser2', 'SNHU1234', 'nv-desktop-services.apporto.com', \n",
    "                                       32490, 'AAC', 'animals')\n",
    "\n",
    "# Example data to insert\n",
    "data_to_insert = {\n",
    "    'name': 'Spot',\n",
    "    'animal_type': 'Dog',\n",
    "    'age': 2,\n",
    "    'breed': 'Poodle'\n",
    "}\n",
    "\n",
    "# Test create method\n",
    "insert_result = animal_shelter.create(data_to_insert)\n",
    "print(f\"Insert Result: {insert_result}\")\n",
    "\n",
    "# Test read method\n",
    "query_criteria = {'name': 'Spot'}\n",
    "read_result = animal_shelter.read(query_criteria)\n",
    "print(f\"Read Result: {read_result}\")\n",
    "\n",
    "# Test update method\n",
    "update_criteria = {'name': 'Spot'}\n",
    "new_values = {'age': 3, 'breed': 'Labrador'}\n",
    "update_result = animal_shelter.update(update_criteria, new_values)\n",
    "print(f\"Total updated: {update_result}\")\n",
    "\n",
    "#Test delete method\n",
    "delete_criteria = {'name': 'Spot'}\n",
    "delete_result = animal_shelter.delete(delete_criteria)\n",
    "print(f\"Total deleted: {delete_result}\")"
   ]
  },
  {
   "cell_type": "code",
   "execution_count": null,
   "id": "d50ae676",
   "metadata": {},
   "outputs": [],
   "source": []
  }
 ],
 "metadata": {
  "kernelspec": {
   "display_name": "Python 3 (ipykernel)",
   "language": "python",
   "name": "python3"
  },
  "language_info": {
   "codemirror_mode": {
    "name": "ipython",
    "version": 3
   },
   "file_extension": ".py",
   "mimetype": "text/x-python",
   "name": "python",
   "nbconvert_exporter": "python",
   "pygments_lexer": "ipython3",
   "version": "3.9.12"
  }
 },
 "nbformat": 4,
 "nbformat_minor": 5
}
